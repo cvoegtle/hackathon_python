{
 "cells": [
  {
   "cell_type": "markdown",
   "metadata": {},
   "source": [
    "# Einführung in Python\n",
    "\n",
    "Wir mögen Python. Unter den gängigen Programmiersprachen ist es die intuitivste. Das ist ein Grund\n",
    "warum sie gerne von Wissenschaftlern benutzt wird, die ihre Daten analysiern möchten, ohne vorher ein\n",
    "Informatikstudium zu absolvieren.\n",
    "\n",
    "Wenn ihr dies lesen könnt, dann habt Ihr Python schon installiert und habt alles um loszulegen.\n",
    "\n",
    "Nehmt Euch etwas Zeit, um die Sprache kennenzulernen, mit der wir in den nächsten zwei Tagen arbeiten werden.\n",
    "\n",
    "Detaillierte Informationen zu Python findet auf [python.org](https://docs.python.org/3/)\n",
    "\n",
    "## Python als Taschenrechner\n",
    "Der Python-Interpreter ist ein sehr brauchbarer Taschenrechner. Er kann Addition `+`, Subtraktion `-`, Multiplikation `*`, Division `/` und Potenzen `**`. Mit `(` und `)` und können Teilausdrücke gruppiert werden.\n",
    "\n",
    "Hier ist ein Beispiel:"
   ]
  },
  {
   "cell_type": "code",
   "execution_count": null,
   "metadata": {
    "pycharm": {
     "is_executing": true
    },
    "scrolled": true
   },
   "outputs": [],
   "source": [
    "(1 + 1) * 10"
   ]
  },
  {
   "cell_type": "markdown",
   "metadata": {},
   "source": [
    "Im Feld oben kannst Du selber ein wenig experimentieren. Tippe Deine Ausdrücke ein und click dann oben in der Toolbar auf den `>| Run` Knopf, oder drücke `STRG + ENTER` auf der Tastatur.\n",
    "\n",
    "Mehr mathematische Funktionen findest Du [hier](https://docs.python.org/3/library/math.html)\n",
    "\n",
    "Diese stehen Dir im Gegensatz zu den Grundrechenarten nicht sofort zu Verfügung. Du musst sie erst importieren. Dies machen wir\n",
    "über die import Anweisung. Die schreiben wir in der Regel als Erstes. z.B. um die Mathe-Bibliothek zu importieren:\n",
    "```Python\n",
    "import math\n",
    "math.sqrt(2)\n",
    "```\n",
    "oder um eine Funktion zu importieren:"
   ]
  },
  {
   "cell_type": "code",
   "execution_count": 6,
   "metadata": {},
   "outputs": [
    {
     "data": {
      "text/plain": [
       "1.4142135623730951"
      ]
     },
     "execution_count": 6,
     "metadata": {},
     "output_type": "execute_result"
    }
   ],
   "source": [
    "from math import sqrt\n",
    "sqrt(2)\n",
    "\n"
   ]
  },
  {
   "cell_type": "markdown",
   "metadata": {
    "pycharm": {
     "name": "#%% md\n"
    }
   },
   "source": [
    "## Variablen\n",
    "Du kannst das Ergebnis Deiner Rechnung einer Variablen zuweisen und diese dann bei späteren Rechnungen\n",
    "weiter verwenden. Hier ein Beispiel wo zwei Werte den Variablen `a` und `b` zugewiesen werden und dann mit ihren weitergearbeitet werden.\n",
    "\n",
    "`a` und `b` sind übrigens keine guten Variablennamen. Besser sind Variablennamen, die etwas über die Bedeutung der Variablen sagen."
   ]
  },
  {
   "cell_type": "code",
   "execution_count": 7,
   "metadata": {
    "pycharm": {
     "name": "#%%\n"
    }
   },
   "outputs": [
    {
     "data": {
      "text/plain": [
       "1024"
      ]
     },
     "execution_count": 7,
     "metadata": {},
     "output_type": "execute_result"
    }
   ],
   "source": [
    "a = 1+1\n",
    "b = 10\n",
    "a ** b"
   ]
  },
  {
   "cell_type": "markdown",
   "metadata": {},
   "source": [
    "## Zeichenketten (Strings)\n",
    "Neben Zahlen kennt Python auch den Datentyp: String. Das sind Zeichenketten, also Texte."
   ]
  },
  {
   "cell_type": "code",
   "execution_count": 3,
   "metadata": {
    "pycharm": {
     "name": "#%%\n"
    }
   },
   "outputs": [
    {
     "name": "stdout",
     "output_type": "stream",
     "text": [
      "Herzlich willkommen beim Hackathon 2020\n"
     ]
    }
   ],
   "source": [
    "text = 'Herzlich willkommen beim Hackathon 2020'\n",
    "print(text)"
   ]
  },
  {
   "cell_type": "markdown",
   "metadata": {
    "pycharm": {
     "name": "#%% md\n"
    }
   },
   "source": [
    "Strings werden durch ' am Anfang und Ende begrenzt. Falls Ihr in einem String ein ' vewenden möchtet,\n",
    "dann müsst ihr \\ vorweg schreiben: ```'So \\'n Blödsinn!'```.\n",
    "Alternativ könnt Ihr auch \" als Begrenzung des Strings verwenden: ```\"So 'n Blödsinn!\"```\n",
    "\n",
    "Es gibt noch mehr Zeichen, die durch \\ eine andere Bedeutung bekommen, z.B. \\n für eine neue Zeile und\n",
    "\\t für einen Tabulator. Und falls ihr \\ im Text haben wollt, dann müsst ihr ihn verdoppeln \\\\.\n",
    "\n",
    "Strings können wie Zahlen einer Variablen zugewiesen werden und wir können sie mit + auch zusammenfügen.\n",
    "\n",
    "## Ergebnisse ausgeben\n",
    "\n",
    "mit der print-Funktion kannst Du Dir Strings und andere Daten auf dem Bildschirm ausgeben lassen:"
   ]
  },
  {
   "cell_type": "code",
   "execution_count": 2,
   "outputs": [
    {
     "name": "stdout",
     "output_type": "stream",
     "text": [
      "Der Bierkasten enthält 20 Flaschen.\n",
      "So 'n Blödsinn!\n",
      "So 'n Blödsinn!\n"
     ]
    }
   ],
   "source": [
    "anzahl_flaschen = 20\n",
    "print(\"Der Bierkasten enthält\", anzahl_flaschen, \"Flaschen.\")\n",
    "\n",
    "text = 'So \\'n Blödsinn!'\n",
    "alternativer_text = \"So 'n Blödsinn!\"\n",
    "print(text, alternativer_text, sep='\\n')"
   ],
   "metadata": {
    "collapsed": false,
    "pycharm": {
     "name": "#%%\n"
    }
   }
  },
  {
   "cell_type": "markdown",
   "metadata": {},
   "source": [
    "Ist Euch das `sep='\\n'` aufgefallen? Das ist ein named Parameter mit dem wir festlegen, dass die Strings mit\n",
    "einem Zeilenumbruch (`\\n`) getrennt werden. Die Voreinstellung wäre ein Leerzeichen."
   ]
  },
  {
   "cell_type": "markdown",
   "metadata": {},
   "source": [
    "Noch besser ist es, wenn man die Zahlen schön formatiert:"
   ]
  },
  {
   "cell_type": "code",
   "execution_count": 3,
   "metadata": {
    "pycharm": {
     "name": "#%%\n"
    }
   },
   "outputs": [
    {
     "name": "stdout",
     "output_type": "stream",
     "text": [
      "ein Kreis mit dem Radius 3.5m hat eine Fläche von 38.48qm\n"
     ]
    }
   ],
   "source": [
    "import math\n",
    "radius = 3.5\n",
    "kreisflaeche = math.pi * radius ** 2\n",
    "print('ein Kreis mit dem Radius {}m hat eine Fläche von {:.2f}qm'.format(radius, kreisflaeche))"
   ]
  },
  {
   "cell_type": "markdown",
   "metadata": {},
   "source": [
    "oder kürzer"
   ]
  },
  {
   "cell_type": "code",
   "execution_count": 4,
   "metadata": {
    "pycharm": {
     "name": "#%%\n"
    }
   },
   "outputs": [
    {
     "name": "stdout",
     "output_type": "stream",
     "text": [
      "ein Kreis mit dem Radius 3.5m hat eine Fläche von 38.48qm\n"
     ]
    }
   ],
   "source": [
    "import math\n",
    "radius = 3.5\n",
    "kreisflaeche = math.pi * radius ** 2\n",
    "\n",
    "print(f'ein Kreis mit dem Radius {radius}m hat eine Fläche von {kreisflaeche:.2f}qm')"
   ]
  },
  {
   "cell_type": "markdown",
   "metadata": {
    "pycharm": {
     "name": "#%% md\n"
    }
   },
   "source": [
    "Mit dreifachen Anführungszeichen: \"\"\" oder ''' könnt Ihr Strings mit Zeilenumbrüchen erfassen."
   ]
  },
  {
   "cell_type": "code",
   "execution_count": 6,
   "outputs": [
    {
     "name": "stdout",
     "output_type": "stream",
     "text": [
      "Bitte denkt daran:\n",
      " - 1.5m Abstand\n",
      " - Maske tragen\n",
      " - regelmäßig Hände waschen\n",
      "\n"
     ]
    }
   ],
   "source": [
    "abstand = 1.5\n",
    "corona_regeln = f'''Bitte denkt daran:\n",
    " - {abstand}m Abstand\n",
    " - Maske tragen\n",
    " - regelmäßig Hände waschen\n",
    "'''\n",
    "print(corona_regeln)"
   ],
   "metadata": {
    "collapsed": false,
    "pycharm": {
     "name": "#%%\n"
    }
   }
  },
  {
   "cell_type": "code",
   "source": [
    "print(r'Letzter Tipp: falls Euch die \\ lästig sind, dann könnt ihr ein r vor den String setzen für \"raw\", dann werden die \\ nicht interpretiert')"
   ],
   "metadata": {
    "collapsed": false,
    "pycharm": {
     "name": "#%%\n"
    }
   },
   "execution_count": 7,
   "outputs": [
    {
     "name": "stdout",
     "output_type": "stream",
     "text": [
      "Letzter Tipp: falls Euch die \\ lästig sind, dann könnt ihr ein r vor den String setzen für \"raw\", dann werden die \\ nicht interpretiert\n"
     ]
    }
   ]
  },
  {
   "cell_type": "markdown",
   "source": [
    "Mehr zur [print-Funktion](https://docs.python.org/3/library/functions.html#print) und\n",
    "[Formatierung von Text](https://docs.python.org/3/library/string.html)."
   ],
   "metadata": {
    "collapsed": false,
    "pycharm": {
     "name": "#%% md\n"
    }
   }
  },
  {
   "cell_type": "markdown",
   "source": [
    "## Listen\n",
    "Die einfachste und universellste Datenstruktur, also eine Verbindung von mehreren Daten ist eine Liste."
   ],
   "metadata": {
    "collapsed": false,
    "pycharm": {
     "name": "#%% md\n"
    }
   }
  },
  {
   "cell_type": "code",
   "execution_count": 3,
   "outputs": [
    {
     "name": "stdout",
     "output_type": "stream",
     "text": [
      "[1, 4, 9, 16, 25, 36]\n",
      "[36, 25, 16, 9, 4, 1]\n"
     ]
    }
   ],
   "source": [
    "quadrat_zahlen = [1, 4, 9, 16, 25, 36]\n",
    "print(quadrat_zahlen)"
   ],
   "metadata": {
    "collapsed": false,
    "pycharm": {
     "name": "#%%\n"
    }
   }
  },
  {
   "cell_type": "markdown",
   "source": [
    "auf die Elemente in der Liste könnt ihr über ihren Index zugreifen. 0 ist der Index des ersten Elements in der Liste. 1 der\n",
    "Index des zweiten, und so weiter. Ihr könnt die Elementer Liste auch vom Ende adressieren: -1 ist das letzte Element. -2 das\n",
    "vorletzte ..."
   ],
   "metadata": {
    "collapsed": false
   }
  },
  {
   "cell_type": "code",
   "execution_count": null,
   "outputs": [],
   "source": [
    "quadrat_zahlen = [1, 4, 9, 16, 25, 36]\n",
    "print (f'Die kleinste Quadratzahl ist {quadrat_zahlen[0]}.\\nDie größte Quadratzahl ist {quadrat_zahlen[-1]}.')"
   ],
   "metadata": {
    "collapsed": false,
    "pycharm": {
     "name": "#%%\n"
    }
   }
  },
  {
   "cell_type": "markdown",
   "source": [
    "Ihr könnt auch Teile der Liste adressieren. Das macht ihr indem ihr einen Bereich angebt. Dabei werden der Anfangs- und der\n",
    "Endindex mit einem Doppelpunkt getrennt:"
   ],
   "metadata": {
    "collapsed": false
   }
  },
  {
   "cell_type": "code",
   "execution_count": null,
   "outputs": [],
   "source": [
    "quadrat_zahlen = [1, 4, 9, 16, 25, 36]\n",
    "print (f'Die kleinsten Quadratzahlen sind {quadrat_zahlen[0:3]}.\\nDie größten Quadratzahlen sind {quadrat_zahlen[-4:-1]}.')"
   ],
   "metadata": {
    "collapsed": false,
    "pycharm": {
     "name": "#%%\n"
    }
   }
  },
  {
   "cell_type": "markdown",
   "source": [
    "Wir können Elemente zu einer Liste hinzufügen oder entfernen."
   ],
   "metadata": {
    "collapsed": false
   }
  },
  {
   "cell_type": "code",
   "execution_count": null,
   "outputs": [],
   "source": [
    "quadrat_zahlen = [1, 4, 9, 16, 25, 36]\n",
    "# den Wert am Ende anfügen\n",
    "quadrat_zahlen.append(49)\n",
    "print(quadrat_zahlen)\n",
    "\n",
    "# einen Wert einfügen\n",
    "quadrat_zahlen.insert(1, 2)\n",
    "print(quadrat_zahlen)\n",
    "\n",
    "# wir geben bei Entfernen den Wert an. Nicht den Index.\n",
    "# Falls der Wert mehrfach in der Liste vorkommt, dann werden alle Vorkommen gelöscht\n",
    "quadrat_zahlen.remove(2)\n",
    "print(quadrat_zahlen)"
   ],
   "metadata": {
    "collapsed": false,
    "pycharm": {
     "name": "#%%\n"
    }
   }
  },
  {
   "cell_type": "markdown",
   "source": [
    "Zeichenketten sind Listen mit Buchstaben. Bei denen funktioniert die Adressierung genauso"
   ],
   "metadata": {
    "collapsed": false
   }
  },
  {
   "cell_type": "code",
   "execution_count": null,
   "outputs": [],
   "source": [
    "pit = \"Paderborn ist Informatik\"\n",
    "print (f'Wir sind {pit[-10:]} aus {pit[0:9]}')"
   ],
   "metadata": {
    "collapsed": false,
    "pycharm": {
     "name": "#%%\n"
    }
   }
  },
  {
   "cell_type": "markdown",
   "metadata": {
    "pycharm": {
     "name": "#%% md\n"
    }
   },
   "source": [
    "Sofern die Liste untereinander vergleichbare Elemente enthält, dann können wir sie sortieren:"
   ]
  },
  {
   "cell_type": "code",
   "execution_count": 5,
   "outputs": [
    {
     "name": "stdout",
     "output_type": "stream",
     "text": [
      "[36, 25, 16, 9, 4, 1]\n"
     ]
    }
   ],
   "source": [
    "quadrat_zahlen = [1, 4, 9, 16, 25, 36]\n",
    "quadrat_zahlen.sort(reverse=True)\n",
    "print(quadrat_zahlen)"
   ],
   "metadata": {
    "collapsed": false,
    "pycharm": {
     "name": "#%%\n"
    }
   }
  },
  {
   "cell_type": "markdown",
   "source": [
    "übrigens man kann unterschiedliche Typen als Elemente zu einer Liste hinzufügen, aber das ist selten sinnvoll."
   ],
   "metadata": {
    "collapsed": false,
    "pycharm": {
     "name": "#%% md\n"
    }
   }
  },
  {
   "cell_type": "code",
   "execution_count": 6,
   "outputs": [
    {
     "name": "stdout",
     "output_type": "stream",
     "text": [
      "[1, 'wurzel2*wurzel2', 4, 9, 16, 25, 36]\n"
     ]
    }
   ],
   "source": [
    "quadrat_zahlen = [1, 4, 9, 16, 25, 36]\n",
    "quadrat_zahlen.insert(1, 'wurzel2*wurzel2')\n",
    "print(quadrat_zahlen)"
   ],
   "metadata": {
    "collapsed": false,
    "pycharm": {
     "name": "#%%\n"
    }
   }
  }
 ],
 "metadata": {
  "kernelspec": {
   "display_name": "Python 3",
   "language": "python",
   "name": "python3"
  },
  "language_info": {
   "codemirror_mode": {
    "name": "ipython",
    "version": 3
   },
   "file_extension": ".py",
   "mimetype": "text/x-python",
   "name": "python",
   "nbconvert_exporter": "python",
   "pygments_lexer": "ipython3",
   "version": "3.8.2"
  }
 },
 "nbformat": 4,
 "nbformat_minor": 1
}