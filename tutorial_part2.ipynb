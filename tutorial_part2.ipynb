{
 "cells": [
  {
   "cell_type": "markdown",
   "metadata": {
    "collapsed": true,
    "pycharm": {
     "name": "#%% md\n"
    }
   },
   "source": [
    "## Bedingte Ausführung\n",
    "Wir können Werte vergleichen mit\n",
    "\n",
    "`<` kleiner\n",
    "\n",
    "`<=` kleiner oder gleich\n",
    "\n",
    "`==` gleich\n",
    "\n",
    "`!=` ungleich\n",
    "\n",
    "`=>` größer oder gleich\n",
    "\n",
    "`>` größer\n",
    "\n",
    "Das Ergebnis ist ein boolscher Wert. Also `wahr` oder `falsch`. `True` oder `False` auf Englisch."
   ]
  },
  {
   "cell_type": "code",
   "execution_count": 1,
   "outputs": [
    {
     "data": {
      "text/plain": "False"
     },
     "execution_count": 1,
     "metadata": {},
     "output_type": "execute_result"
    }
   ],
   "source": [
    "a = 5\n",
    "b = 5\n",
    "\n",
    "a > b"
   ],
   "metadata": {
    "collapsed": false,
    "pycharm": {
     "name": "#%%\n"
    }
   }
  },
  {
   "cell_type": "code",
   "execution_count": 2,
   "outputs": [
    {
     "data": {
      "text/plain": "True"
     },
     "execution_count": 2,
     "metadata": {},
     "output_type": "execute_result"
    }
   ],
   "source": [
    "a >= b"
   ],
   "metadata": {
    "collapsed": false,
    "pycharm": {
     "name": "#%%\n"
    }
   }
  },
  {
   "cell_type": "code",
   "execution_count": 3,
   "outputs": [
    {
     "data": {
      "text/plain": "True"
     },
     "execution_count": 3,
     "metadata": {},
     "output_type": "execute_result"
    }
   ],
   "source": [
    "a == b"
   ],
   "metadata": {
    "collapsed": false,
    "pycharm": {
     "name": "#%%\n"
    }
   }
  },
  {
   "cell_type": "code",
   "execution_count": 4,
   "outputs": [
    {
     "data": {
      "text/plain": "True"
     },
     "execution_count": 4,
     "metadata": {},
     "output_type": "execute_result"
    }
   ],
   "source": [
    "a <= b"
   ],
   "metadata": {
    "collapsed": false,
    "pycharm": {
     "name": "#%%\n"
    }
   }
  },
  {
   "cell_type": "code",
   "execution_count": 5,
   "outputs": [
    {
     "data": {
      "text/plain": "False"
     },
     "execution_count": 5,
     "metadata": {},
     "output_type": "execute_result"
    }
   ],
   "source": [
    "a < b"
   ],
   "metadata": {
    "collapsed": false,
    "pycharm": {
     "name": "#%%\n"
    }
   }
  },
  {
   "cell_type": "code",
   "execution_count": 6,
   "outputs": [
    {
     "data": {
      "text/plain": "True"
     },
     "execution_count": 6,
     "metadata": {},
     "output_type": "execute_result"
    }
   ],
   "source": [
    "b < 6"
   ],
   "metadata": {
    "collapsed": false,
    "pycharm": {
     "name": "#%%\n"
    }
   }
  },
  {
   "cell_type": "code",
   "execution_count": 1,
   "outputs": [
    {
     "data": {
      "text/plain": "False"
     },
     "execution_count": 1,
     "metadata": {},
     "output_type": "execute_result"
    }
   ],
   "source": [
    "6 == '6'"
   ],
   "metadata": {
    "collapsed": false,
    "pycharm": {
     "name": "#%%\n"
    }
   }
  },
  {
   "cell_type": "code",
   "execution_count": 2,
   "outputs": [
    {
     "data": {
      "text/plain": "True"
     },
     "execution_count": 2,
     "metadata": {},
     "output_type": "execute_result"
    }
   ],
   "source": [
    "\"6\" == '6'"
   ],
   "metadata": {
    "collapsed": false,
    "pycharm": {
     "name": "#%%\n"
    }
   }
  },
  {
   "cell_type": "markdown",
   "source": [
    "wir können die boolschen Ausdrücke invertieren durch not (nicht) bzw.miteinander verknüpfen\n",
    "durch die Operatoren and (und) or (oder). Die Wichtigkeit nimmt in dieser Reihenfolge ab. Falls\n",
    "wir möchten, dass die Ausdrücke in einer anderen Reihenfolge angewendet werden, dann können wir\n",
    "Klammern setzen"
   ],
   "metadata": {
    "collapsed": false,
    "pycharm": {
     "name": "#%% md\n"
    }
   }
  },
  {
   "cell_type": "code",
   "execution_count": 5,
   "outputs": [
    {
     "data": {
      "text/plain": "False"
     },
     "execution_count": 5,
     "metadata": {},
     "output_type": "execute_result"
    }
   ],
   "source": [
    "False or not True and False"
   ],
   "metadata": {
    "collapsed": false,
    "pycharm": {
     "name": "#%%\n"
    }
   }
  },
  {
   "cell_type": "code",
   "execution_count": 6,
   "outputs": [
    {
     "data": {
      "text/plain": "True"
     },
     "execution_count": 6,
     "metadata": {},
     "output_type": "execute_result"
    }
   ],
   "source": [
    "False or not (True and False)"
   ],
   "metadata": {
    "collapsed": false,
    "pycharm": {
     "name": "#%%\n"
    }
   }
  },
  {
   "cell_type": "markdown",
   "source": [
    "diese boolschen Ausdrücke können wir benutzen, um den Ablauf unseres Programms zu steuern:"
   ],
   "metadata": {
    "collapsed": false
   }
  },
  {
   "cell_type": "code",
   "execution_count": null,
   "outputs": [],
   "source": [
    "c = 0\n",
    "if a == b:\n",
    "    c = a + b\n",
    "\n",
    "print('c ist gleich', c)"
   ],
   "metadata": {
    "collapsed": false,
    "pycharm": {
     "name": "#%%\n"
    }
   }
  },
  {
   "cell_type": "markdown",
   "source": [
    "ist Euch die Einrückung von `c = a + b` aufgefallen? Die nennt man in Python einen Block. Was nach dem if eingerückt ist, wird nur\n",
    "ausgeführt, wenn die Bedingung zutrifft. Das können mehr als eine Zeile sein. Merkt Euch das gut! Einrückungen bestimmen die Zugehörigkeit zu einem Block, der\n",
    "gemeinsam ausgeführt wird.\n",
    "\n",
    "Wir haben auch eine Möglichkeit zu bestimmen, was passiert, wenn die Bedingung nicht zutrifft:"
   ],
   "metadata": {
    "collapsed": false
   }
  },
  {
   "cell_type": "code",
   "execution_count": null,
   "outputs": [],
   "source": [
    "c = 0\n",
    "\n",
    "if a > b:\n",
    "    c = a + b\n",
    "else:\n",
    "    c = a * b\n",
    "\n",
    "print('c ist gleich', c)"
   ],
   "metadata": {
    "collapsed": false,
    "pycharm": {
     "name": "#%%\n"
    }
   }
  },
  {
   "cell_type": "markdown",
   "source": [
    "Wir können auch für den `else`-Zweig eine Bedingung festlegen, mit `elif`. `elif` könnt ihr mehrfach hintereinander verwenden"
   ],
   "metadata": {
    "collapsed": false
   }
  },
  {
   "cell_type": "code",
   "execution_count": null,
   "outputs": [],
   "source": [
    "c = 0\n",
    "\n",
    "if a > b:\n",
    "    c = a + b\n",
    "elif a == b:\n",
    "    c = a * b\n",
    "elif a < b:\n",
    "    c = a - 3\n",
    "else:\n",
    "    c = -1\n",
    "\n",
    "print('c ist gleich', c)"
   ],
   "metadata": {
    "collapsed": false,
    "pycharm": {
     "name": "#%%\n"
    }
   }
  },
  {
   "cell_type": "markdown",
   "source": [],
   "metadata": {
    "collapsed": false
   }
  },
  {
   "cell_type": "markdown",
   "source": [
    "## Schleifen und Wiederholungen\n",
    "TODO: for Schleife einführen"
   ],
   "metadata": {
    "collapsed": false
   }
  },
  {
   "cell_type": "markdown",
   "source": [
    "## Funktionen\n",
    "TODO: funktionen erklären: (mit, ohne, mehrere Parameter, Rückgabewerte)\n"
   ],
   "metadata": {
    "collapsed": false
   }
  },
  {
   "cell_type": "markdown",
   "source": [
    "## Interessante Funktionen aus der Standard-Bibliothek\n",
    "* TODO: import erklären\n",
    "* TOOD: aufruf von Funktionen erklären\n",
    "* TODO: Interessante Funktionen mit Beispielen auflisten, Listen, Zeichenketten, range, enumerate,"
   ],
   "metadata": {
    "collapsed": false
   }
  },
  {
   "cell_type": "markdown",
   "source": [
    "## Tupel und Funktionen\n",
    "TODO: beschreiben wie man mehrere Elemente aus einer Funktion zurückgeben kann und was dahinter steckt\n",
    "TODO: beschreiben was tuple-unpacking ist und wie man damit Variablen vertauschen kann"
   ],
   "metadata": {
    "collapsed": false
   }
  },
  {
   "cell_type": "markdown",
   "source": [
    "## Wörterbücher (Dicts)\n",
    "TODO: Dicts einführen"
   ],
   "metadata": {
    "collapsed": false
   }
  },
  {
   "cell_type": "markdown",
   "source": [
    "## Schleifen und Wiederholungen\n",
    "TODO: for Schleife einführen"
   ],
   "metadata": {
    "collapsed": false
   }
  },
  {
   "cell_type": "markdown",
   "source": [
    "## Funktionen\n",
    "TODO: funktionen erklären: (mit, ohne, mehrere Parameter, Rückgabewerte)\n",
    "\n",
    "\n"
   ],
   "metadata": {
    "collapsed": false
   }
  }
 ],
 "metadata": {
  "kernelspec": {
   "display_name": "Python 3",
   "language": "python",
   "name": "python3"
  },
  "language_info": {
   "codemirror_mode": {
    "name": "ipython",
    "version": 2
   },
   "file_extension": ".py",
   "mimetype": "text/x-python",
   "name": "python",
   "nbconvert_exporter": "python",
   "pygments_lexer": "ipython2",
   "version": "2.7.6"
  }
 },
 "nbformat": 4,
 "nbformat_minor": 0
}