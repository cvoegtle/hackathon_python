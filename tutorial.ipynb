{
 "cells": [
  {
   "cell_type": "markdown",
   "metadata": {},
   "source": [
    "# Einführung in Python\n",
    "\n",
    "Wir mögen Python. Unter den gängigen Programmiersprachen ist es die intuitivste. Das ist ein Grund\n",
    "warum sie gerne von Wissenschaftlern benutzt wird, die ihre Daten analysiern möchten, ohne vorher ein\n",
    "Informatikstudium zu absolvieren.\n",
    "\n",
    "Wenn ihr dies lesen könnt, dann habt Ihr Python schon installiert und habt alles um loszulegen.\n",
    "\n",
    "Nehmt Euch etwas Zeit, um die Sprache kennenzulernen, mit der wir in den nächsten zwei Tagen arbeiten werden.\n",
    "\n",
    "Detaillierte Informationen zu Python findet auf [python.org](https://docs.python.org/3/)\n",
    "\n",
    "## Python als Taschenrechner\n",
    "Der Python-Interpreter ist ein sehr brauchbarer Taschenrechner. Er kann Addition `+`, Subtraktion `-`, Multiplikation `*`, Division `/` und Potenzen `**`. Mit `(` und `)` und können Teilausdrücke gruppiert werden.\n",
    "\n",
    "Hier ist ein Beispiel:"
   ]
  },
  {
   "cell_type": "code",
   "execution_count": null,
   "metadata": {
    "pycharm": {
     "is_executing": true
    },
    "scrolled": true
   },
   "outputs": [],
   "source": [
    "(1 + 1) * 10"
   ]
  },
  {
   "cell_type": "markdown",
   "metadata": {},
   "source": [
    "Im Feld oben kannst Du selber ein wenig experimentieren. Tippe Deine Ausdrücke ein und click dann oben in der Toolbar auf den `>| Run` Knopf, oder drücke `STRG + ENTER` auf der Tastatur.\n",
    "\n",
    "Mehr mathematische Funktionen findest Du [hier](https://docs.python.org/3/library/math.html)\n",
    "\n",
    "Diese stehen Dir im Gegensatz zu den Grundrechenarten nicht sofort zu Verfügung. Du musst sie erst importieren. Dies machen wir\n",
    "über die import Anweisung. Die schreiben wir in der Regel als Erstes. z.B. um die Mathe-Bibliothek zu importieren:\n",
    "```Python\n",
    "import math\n",
    "math.sqrt(2)\n",
    "```\n",
    "oder um eine Funktion zu importieren:"
   ]
  },
  {
   "cell_type": "code",
   "execution_count": 6,
   "metadata": {},
   "outputs": [
    {
     "data": {
      "text/plain": [
       "1.4142135623730951"
      ]
     },
     "execution_count": 6,
     "metadata": {},
     "output_type": "execute_result"
    }
   ],
   "source": [
    "from math import sqrt\n",
    "sqrt(2)\n",
    "\n"
   ]
  },
  {
   "cell_type": "markdown",
   "metadata": {
    "pycharm": {
     "name": "#%% md\n"
    }
   },
   "source": [
    "## Variablen\n",
    "Du kannst das Ergebnis Deiner Rechnung einer Variablen zuweisen und diese dann bei späteren Rechnungen\n",
    "weiter verwenden. Hier ein Beispiel wo zwei Werte den Variablen `a` und `b` zugewiesen werden und dann mit ihren weitergearbeitet werden.\n",
    "\n",
    "`a` und `b` sind übrigens keine guten Variablennamen. Besser sind Variablennamen, die etwas über die Bedeutung der Variablen sagen."
   ]
  },
  {
   "cell_type": "code",
   "execution_count": 7,
   "metadata": {
    "pycharm": {
     "name": "#%%\n"
    }
   },
   "outputs": [
    {
     "data": {
      "text/plain": [
       "1024"
      ]
     },
     "execution_count": 7,
     "metadata": {},
     "output_type": "execute_result"
    }
   ],
   "source": [
    "a = 1+1\n",
    "b = 10\n",
    "a ** b"
   ]
  },
  {
   "cell_type": "markdown",
   "metadata": {},
   "source": [
    "## Zeichenketten (Strings)\n",
    "Neben Zahlen kennt Python auch den Datentyp: String. Das sind Zeichenketten, also Texte."
   ]
  },
  {
   "cell_type": "code",
   "execution_count": 3,
   "metadata": {
    "pycharm": {
     "name": "#%%\n"
    }
   },
   "outputs": [
    {
     "name": "stdout",
     "output_type": "stream",
     "text": [
      "Herzlich willkommen beim Hackathon 2020\n"
     ]
    }
   ],
   "source": [
    "text = 'Herzlich willkommen beim Hackathon 2020'\n",
    "print(text)"
   ]
  },
  {
   "cell_type": "markdown",
   "metadata": {
    "pycharm": {
     "name": "#%% md\n"
    }
   },
   "source": [
    "Strings werden durch ' am Anfang und Ende begrenzt. Falls Ihr in einem String ein ' vewenden möchtet,\n",
    "dann müsst ihr \\ vorweg schreiben: ```'So \\'n Blödsinn!'```.\n",
    "Alternativ könnt Ihr auch \" als Begrenzung des Strings verwenden: ```\"So 'n Blödsinn!\"```\n",
    "\n",
    "Es gibt noch mehr Zeichen, die durch \\ eine andere Bedeutung bekommen, z.B. \\n für eine neue Zeile und\n",
    "\\t für einen Tabulator. Und falls ihr \\ im Text haben wollt, dann müsst ihr ihn verdoppeln \\\\.\n",
    "\n",
    "Strings können wie Zahlen einer Variablen zugewiesen werden und wir können sie mit + auch zusammenfügen.\n",
    "\n",
    "Um einen oder mehrere String auszugeben verwenden wir die Funktion ```print()```. Dazu später noch mehr."
   ]
  },
  {
   "cell_type": "code",
   "execution_count": 5,
   "metadata": {
    "pycharm": {
     "name": "#%%\n"
    }
   },
   "outputs": [
    {
     "name": "stdout",
     "output_type": "stream",
     "text": [
      "So 'n Blödsinn!\n",
      "So 'n Blödsinn!\n"
     ]
    }
   ],
   "source": [
    "text = 'So \\'n Blödsinn!'\n",
    "alternativer_text = \"So 'n Blödsinn!\"\n",
    "print(text, alternativer_text, sep='\\n')"
   ]
  },
  {
   "cell_type": "markdown",
   "metadata": {},
   "source": [
    "Ist Euch das `sep='\\n'` aufgefallen? Das ist ein named Parameter mit dem wir festlegen, dass die Strings mit einem Zeilenumbruch (`\\n`) etrennt werden.\n",
    "Die Voreinstellung wäre ein Leerzeichen.\n",
    "\n",
    "## Bedingte Ausführung\n",
    "Wir können Werte auch vergleichen mit `<, >, ==, !=`. Das Ergebnis ist ein boolscher Wert sein. Also `wahr` oder `falsch`. `True` oder `False` auf Englisch."
   ]
  },
  {
   "cell_type": "code",
   "execution_count": 1,
   "metadata": {
    "pycharm": {
     "is_executing": true,
     "name": "#%%\n"
    }
   },
   "outputs": [
    {
     "data": {
      "text/plain": [
       "False"
      ]
     },
     "execution_count": 1,
     "metadata": {},
     "output_type": "execute_result"
    }
   ],
   "source": [
    "a = 5\n",
    "b = 5\n",
    "\n",
    "a > b"
   ]
  },
  {
   "cell_type": "code",
   "execution_count": 2,
   "metadata": {
    "pycharm": {
     "name": "#%%\n"
    }
   },
   "outputs": [
    {
     "data": {
      "text/plain": [
       "True"
      ]
     },
     "execution_count": 2,
     "metadata": {},
     "output_type": "execute_result"
    }
   ],
   "source": [
    "a >= b"
   ]
  },
  {
   "cell_type": "code",
   "execution_count": 3,
   "metadata": {
    "pycharm": {
     "name": "#%%\n"
    }
   },
   "outputs": [
    {
     "data": {
      "text/plain": [
       "True"
      ]
     },
     "execution_count": 3,
     "metadata": {},
     "output_type": "execute_result"
    }
   ],
   "source": [
    "a == b"
   ]
  },
  {
   "cell_type": "code",
   "execution_count": 4,
   "metadata": {
    "pycharm": {
     "name": "#%%\n"
    }
   },
   "outputs": [
    {
     "data": {
      "text/plain": [
       "True"
      ]
     },
     "execution_count": 4,
     "metadata": {},
     "output_type": "execute_result"
    }
   ],
   "source": [
    "a <= b"
   ]
  },
  {
   "cell_type": "code",
   "execution_count": 5,
   "metadata": {
    "pycharm": {
     "name": "#%%\n"
    }
   },
   "outputs": [
    {
     "data": {
      "text/plain": [
       "False"
      ]
     },
     "execution_count": 5,
     "metadata": {},
     "output_type": "execute_result"
    }
   ],
   "source": [
    "a < b"
   ]
  },
  {
   "cell_type": "code",
   "execution_count": 6,
   "metadata": {
    "pycharm": {
     "name": "#%%\n"
    }
   },
   "outputs": [
    {
     "data": {
      "text/plain": [
       "True"
      ]
     },
     "execution_count": 6,
     "metadata": {},
     "output_type": "execute_result"
    }
   ],
   "source": [
    "b < 6"
   ]
  },
  {
   "cell_type": "markdown",
   "metadata": {
    "pycharm": {
     "name": "#%% md\n"
    }
   },
   "source": [
    "diese boolschen Ausdrücke können wir benutzen, um den Ablauf unseres Programms zu steuern:"
   ]
  },
  {
   "cell_type": "code",
   "execution_count": null,
   "metadata": {
    "pycharm": {
     "name": "#%%\n",
     "is_executing": true
    }
   },
   "outputs": [],
   "source": [
    "c = 0\n",
    "if a == b:\n",
    "    c = a + b\n",
    "\n",
    "print('c ist gleich', c)"
   ]
  },
  {
   "cell_type": "markdown",
   "metadata": {
    "pycharm": {
     "name": "#%% md\n"
    }
   },
   "source": [
    "ist Euch die Einrückung von `c = a + b` aufgefallen? Die nennt man in Python einen Block. Was nach dem if eingerückt ist, wird nur\n",
    "ausgeführt, wenn die Bedingung zutrifft. Das können mehr als eine Zeile sein. Merkt Euch das gut! Einrückungen bestimmen die Zugehörigkeit zu einem Block, der\n",
    "gemeinsam ausgeführt wird.\n",
    "\n",
    "Wir haben auch eine Möglichkeit zu bestimmen, was passiert, wenn die Bedingung nicht zutrifft:"
   ]
  },
  {
   "cell_type": "code",
   "execution_count": 14,
   "metadata": {
    "pycharm": {
     "name": "#%%\n"
    }
   },
   "outputs": [
    {
     "data": {
      "text/plain": [
       "27"
      ]
     },
     "execution_count": 14,
     "metadata": {},
     "output_type": "execute_result"
    }
   ],
   "source": [
    "c = 0\n",
    "\n",
    "if a > b:\n",
    "    c = a + b\n",
    "else:\n",
    "    c = a * b\n",
    "\n",
    "print('c ist gleich', c)"
   ]
  },
  {
   "cell_type": "markdown",
   "source": [
    "Wir können auch für den `else`-Zweig eine Bedingung festlegen, mit `elif`. `elif` könnt ihr mehrfach hintereinander verwenden"
   ],
   "metadata": {
    "collapsed": false,
    "pycharm": {
     "name": "#%% md\n"
    }
   }
  },
  {
   "cell_type": "code",
   "execution_count": null,
   "outputs": [],
   "source": [
    "c = 0\n",
    "\n",
    "if a > b:\n",
    "    c = a + b\n",
    "elif a == b:\n",
    "    c = a * b\n",
    "elif a < b:\n",
    "    c = a - 3\n",
    "else:\n",
    "    c = -1\n",
    "\n",
    "print('c ist gleich', c)"
   ],
   "metadata": {
    "collapsed": false,
    "pycharm": {
     "name": "#%%\n",
     "is_executing": true
    }
   }
  },
  {
   "cell_type": "markdown",
   "metadata": {},
   "source": [
    "## Listen\n",
    "TODO: Listen einführen"
   ]
  },
  {
   "cell_type": "markdown",
   "metadata": {},
   "source": [
    "## Zeichenketten (Strings)\n",
    "TODO: Zeichenketten einführen"
   ]
  },
  {
   "cell_type": "markdown",
   "metadata": {},
   "source": [
    "## Schleifen und Wiederholungen\n",
    "TODO: for Schleife einführen"
   ]
  },
  {
   "cell_type": "markdown",
   "metadata": {},
   "source": [
    "## Funktionen\n",
    "TODO: funktionen erklären: (mit, ohne, mehrere Parameter, Rückgabewerte)"
   ]
  },
  {
   "cell_type": "markdown",
   "metadata": {},
   "source": [
    "## Ergebnisse ausgeben\n",
    "\n",
    "mit der print-Funktion kannst Du Dir die Ergebnisse hübscher ausgeben lassen:"
   ]
  },
  {
   "cell_type": "code",
   "execution_count": 15,
   "metadata": {
    "pycharm": {
     "name": "#%%\n"
    }
   },
   "outputs": [
    {
     "name": "stdout",
     "output_type": "stream",
     "text": [
      "Der Bierkasten enthält 12 Flaschen.\n"
     ]
    }
   ],
   "source": [
    "flaschen = 12\n",
    "print(\"Der Bierkasten enthält\", flaschen, \"Flaschen.\")"
   ]
  },
  {
   "cell_type": "markdown",
   "metadata": {},
   "source": [
    "Noch Besser ist es, wenn man die Zahlen schön formatiert:"
   ]
  },
  {
   "cell_type": "code",
   "execution_count": 16,
   "metadata": {
    "pycharm": {
     "name": "#%%\n"
    }
   },
   "outputs": [
    {
     "name": "stdout",
     "output_type": "stream",
     "text": [
      "ein Kreis mit dem Radius 2.5 m hat eine Fläche von 19.63 qm\n"
     ]
    }
   ],
   "source": [
    "import math\n",
    "radius = 2.5\n",
    "kreisflaeche = math.pi * radius ** 2\n",
    "print('ein Kreis mit dem Radius {} m hat eine Fläche von {:.2f} qm'.format(radius, kreisflaeche))"
   ]
  },
  {
   "cell_type": "code",
   "execution_count": 17,
   "metadata": {
    "pycharm": {
     "name": "#%%\n"
    }
   },
   "outputs": [
    {
     "ename": "SyntaxError",
     "evalue": "invalid syntax (<ipython-input-17-6abab1ce631c>, line 1)",
     "output_type": "error",
     "traceback": [
      "\u001B[0;36m  File \u001B[0;32m\"<ipython-input-17-6abab1ce631c>\"\u001B[0;36m, line \u001B[0;32m1\u001B[0m\n\u001B[0;31m    Mehr zur [print-Funktion](https://docs.python.org/3/library/functions.html#print) und\u001B[0m\n\u001B[0m         ^\u001B[0m\n\u001B[0;31mSyntaxError\u001B[0m\u001B[0;31m:\u001B[0m invalid syntax\n"
     ]
    }
   ],
   "source": [
    "Mehr zur [print-Funktion](https://docs.python.org/3/library/functions.html#print) und\n",
    "[Formatierung von Text](https://docs.python.org/3/library/string.html). Im folgenden Feld kannst Du verschiedene Dinge aus diesem Abschnitt ausprobieren:"
   ]
  },
  {
   "cell_type": "code",
   "execution_count": null,
   "metadata": {
    "pycharm": {
     "name": "#%%\n"
    }
   },
   "outputs": [],
   "source": []
  },
  {
   "cell_type": "markdown",
   "metadata": {},
   "source": [
    "## Interessante Funktionen aus der Standard-Bibliothek\n",
    "* TODO: import erklären\n",
    "* TOOD: aufruf von Funktionen erklären\n",
    "* TODO: Interessante Funktionen mit Beispielen auflisten, Listen, Zeichenketten, range, enumerate,"
   ]
  },
  {
   "cell_type": "markdown",
   "metadata": {},
   "source": [
    "## Tupel und Funktionen\n",
    "TODO: beschreiben wie man mehrere Elemente aus einer Funktion zurückgeben kann und was dahinter steckt\n",
    "TODO: beschreiben was tuple-unpacking ist und wie man damit Variablen vertauschen kann"
   ]
  },
  {
   "cell_type": "markdown",
   "metadata": {},
   "source": [
    "## Wörterbücher (Dicts)\n",
    "TODO: Dicts einführen"
   ]
  },
  {
   "cell_type": "markdown",
   "metadata": {},
   "source": [
    "## Wörterbücher (Dicts)\n",
    "TODO: Dicts einführen"
   ]
  },
  {
   "cell_type": "markdown",
   "metadata": {},
   "source": [
    "## Listen\n",
    "TODO: Listen einführen"
   ]
  },
  {
   "cell_type": "markdown",
   "metadata": {},
   "source": [
    "## Zeichenketten (Strings)\n",
    "TODO: Zeichenketten einführen"
   ]
  },
  {
   "cell_type": "markdown",
   "metadata": {},
   "source": [
    "## Schleifen und Wiederholungen\n",
    "TODO: for Schleife einführen"
   ]
  },
  {
   "cell_type": "markdown",
   "metadata": {},
   "source": [
    "## Funktionen\n",
    "TODO: funktionen erklären: (mit, ohne, mehrere Parameter, Rückgabewerte)"
   ]
  },
  {
   "cell_type": "markdown",
   "metadata": {},
   "source": [
    "## Ergebnisse ausgeben\n",
    "\n",
    "mit der print-Funktion kannst Du Dir die Ergebnisse hübscher ausgeben lassen:"
   ]
  },
  {
   "cell_type": "code",
   "execution_count": null,
   "metadata": {
    "pycharm": {
     "name": "#%%\n"
    }
   },
   "outputs": [],
   "source": [
    "flaschen = 12\n",
    "print(\"Der Bierkasten enthält\", flaschen, \"Flaschen.\")"
   ]
  },
  {
   "cell_type": "markdown",
   "metadata": {},
   "source": [
    "Noch Besser ist es, wenn man die Zahlen schön formatiert:"
   ]
  },
  {
   "cell_type": "code",
   "execution_count": null,
   "metadata": {
    "pycharm": {
     "name": "#%%\n"
    }
   },
   "outputs": [],
   "source": [
    "import math\n",
    "radius = 2.5\n",
    "kreisflaeche = math.pi * radius ** 2\n",
    "print('ein Kreis mit dem Radius {} m hat eine Fläche von {:.2f} qm'.format(radius, kreisflaeche))"
   ]
  },
  {
   "cell_type": "code",
   "execution_count": null,
   "metadata": {
    "pycharm": {
     "name": "#%%\n"
    }
   },
   "outputs": [],
   "source": [
    "Mehr zur [print-Funktion](https://docs.python.org/3/library/functions.html#print) und\n",
    "[Formatierung von Text](https://docs.python.org/3/library/string.html). Im folgenden Feld kannst Du verschiedene Dinge aus diesem Abschnitt ausprobieren:"
   ]
  },
  {
   "cell_type": "code",
   "execution_count": null,
   "metadata": {
    "pycharm": {
     "name": "#%%\n"
    }
   },
   "outputs": [],
   "source": []
  },
  {
   "cell_type": "markdown",
   "metadata": {},
   "source": [
    "## Interessante Funktionen aus der Standard-Bibliothek\n",
    "* TODO: import erklären\n",
    "* TOOD: aufruf von Funktionen erklären\n",
    "* TODO: Interessante Funktionen mit Beispielen auflisten, Listen, Zeichenketten, range, enumerate,"
   ]
  },
  {
   "cell_type": "markdown",
   "metadata": {},
   "source": [
    "## Tupel und Funktionen\n",
    "TODO: beschreiben wie man mehrere Elemente aus einer Funktion zurückgeben kann und was dahinter steckt\n",
    "TODO: beschreiben was tuple-unpacking ist und wie man damit Variablen vertauschen kann"
   ]
  },
  {
   "cell_type": "markdown",
   "metadata": {},
   "source": [
    "## Wörterbücher (Dicts)\n",
    "TODO: Dicts einführen"
   ]
  },
  {
   "cell_type": "markdown",
   "metadata": {},
   "source": [
    "## Wörterbücher (Dicts)\n",
    "TODO: Dicts einführen"
   ]
  },
  {
   "cell_type": "markdown",
   "metadata": {},
   "source": [
    "## Listen\n",
    "TODO: Listen einführen"
   ]
  },
  {
   "cell_type": "markdown",
   "metadata": {},
   "source": [
    "## Zeichenketten (Strings)\n",
    "TODO: Zeichenketten einführen"
   ]
  },
  {
   "cell_type": "markdown",
   "metadata": {},
   "source": [
    "## Schleifen und Wiederholungen\n",
    "TODO: for Schleife einführen"
   ]
  },
  {
   "cell_type": "markdown",
   "metadata": {},
   "source": [
    "## Funktionen\n",
    "TODO: funktionen erklären: (mit, ohne, mehrere Parameter, Rückgabewerte)"
   ]
  },
  {
   "cell_type": "markdown",
   "metadata": {},
   "source": [
    "## Ergebnisse ausgeben\n",
    "\n",
    "mit der print-Funktion kannst Du Dir die Ergebnisse hübscher ausgeben lassen:"
   ]
  },
  {
   "cell_type": "code",
   "execution_count": null,
   "metadata": {
    "pycharm": {
     "name": "#%%\n"
    }
   },
   "outputs": [],
   "source": [
    "flaschen = 12\n",
    "print(\"Der Bierkasten enthält\", flaschen, \"Flaschen.\")"
   ]
  },
  {
   "cell_type": "markdown",
   "metadata": {},
   "source": [
    "Noch Besser ist es, wenn man die Zahlen schön formatiert:"
   ]
  },
  {
   "cell_type": "code",
   "execution_count": null,
   "metadata": {
    "pycharm": {
     "name": "#%%\n"
    }
   },
   "outputs": [],
   "source": [
    "import math\n",
    "radius = 2.5\n",
    "kreisflaeche = math.pi * radius ** 2\n",
    "print('ein Kreis mit dem Radius {} m hat eine Fläche von {:.2f} qm'.format(radius, kreisflaeche))"
   ]
  },
  {
   "cell_type": "code",
   "execution_count": null,
   "metadata": {
    "pycharm": {
     "name": "#%%\n"
    }
   },
   "outputs": [],
   "source": [
    "Mehr zur [print-Funktion](https://docs.python.org/3/library/functions.html#print) und\n",
    "[Formatierung von Text](https://docs.python.org/3/library/string.html). Im folgenden Feld kannst Du verschiedene Dinge aus diesem Abschnitt ausprobieren:"
   ]
  },
  {
   "cell_type": "code",
   "execution_count": null,
   "metadata": {
    "pycharm": {
     "name": "#%%\n"
    }
   },
   "outputs": [],
   "source": []
  },
  {
   "cell_type": "markdown",
   "metadata": {},
   "source": [
    "## Interessante Funktionen aus der Standard-Bibliothek\n",
    "* TODO: import erklären\n",
    "* TOOD: aufruf von Funktionen erklären\n",
    "* TODO: Interessante Funktionen mit Beispielen auflisten, Listen, Zeichenketten, range, enumerate,"
   ]
  },
  {
   "cell_type": "markdown",
   "metadata": {},
   "source": [
    "## Tupel und Funktionen\n",
    "TODO: beschreiben wie man mehrere Elemente aus einer Funktion zurückgeben kann und was dahinter steckt\n",
    "TODO: beschreiben was tuple-unpacking ist und wie man damit Variablen vertauschen kann"
   ]
  },
  {
   "cell_type": "markdown",
   "metadata": {},
   "source": [
    "## Wörterbücher (Dicts)\n",
    "TODO: Dicts einführen"
   ]
  },
  {
   "cell_type": "markdown",
   "metadata": {},
   "source": [
    "## Wörterbücher (Dicts)\n",
    "TODO: Dicts einführen"
   ]
  },
  {
   "cell_type": "markdown",
   "metadata": {},
   "source": [
    "## Listen\n",
    "TODO: Listen einführen"
   ]
  },
  {
   "cell_type": "markdown",
   "metadata": {},
   "source": [
    "## Zeichenketten (Strings)\n",
    "TODO: Zeichenketten einführen"
   ]
  },
  {
   "cell_type": "markdown",
   "metadata": {},
   "source": [
    "## Schleifen und Wiederholungen\n",
    "TODO: for Schleife einführen"
   ]
  },
  {
   "cell_type": "markdown",
   "metadata": {},
   "source": [
    "## Funktionen\n",
    "TODO: funktionen erklären: (mit, ohne, mehrere Parameter, Rückgabewerte)"
   ]
  },
  {
   "cell_type": "markdown",
   "metadata": {
    "pycharm": {
     "name": "#%% md\n"
    }
   },
   "source": [
    "## Ergebnisse ausgeben\n",
    "\n",
    "mit der print-Funktion kannst Du Dir die Ergebnisse hübscher ausgeben lassen:"
   ]
  },
  {
   "cell_type": "code",
   "execution_count": null,
   "metadata": {
    "scrolled": true
   },
   "outputs": [],
   "source": [
    "flaschen = 12\n",
    "print(\"Der Bierkasten enthält\", flaschen, \"Flaschen.\")"
   ]
  },
  {
   "cell_type": "markdown",
   "metadata": {},
   "source": [
    "Noch Besser ist es, wenn man die Zahlen schön formatiert:"
   ]
  },
  {
   "cell_type": "code",
   "execution_count": null,
   "metadata": {
    "scrolled": true
   },
   "outputs": [],
   "source": [
    "import math\n",
    "radius = 2.5\n",
    "kreisflaeche = math.pi * radius ** 2\n",
    "print('ein Kreis mit dem Radius {} m hat eine Fläche von {:.2f} qm'.format(radius, kreisflaeche))"
   ]
  },
  {
   "cell_type": "markdown",
   "metadata": {
    "pycharm": {
     "name": "#%%\n"
    }
   },
   "source": [
    "Mehr zur [print-Funktion](https://docs.python.org/3/library/functions.html#print) und\n",
    "[Formatierung von Text](https://docs.python.org/3/library/string.html). Im folgenden Feld kannst Du verschiedene Dinge aus diesem Abschnitt ausprobieren:"
   ]
  },
  {
   "cell_type": "code",
   "execution_count": null,
   "metadata": {},
   "outputs": [],
   "source": []
  },
  {
   "cell_type": "markdown",
   "metadata": {},
   "source": [
    "## Interessante Funktionen aus der Standard-Bibliothek\n",
    "* TODO: import erklären\n",
    "* TOOD: aufruf von Funktionen erklären\n",
    "* TODO: Interessante Funktionen mit Beispielen auflisten, Listen, Zeichenketten, range, enumerate,"
   ]
  },
  {
   "cell_type": "markdown",
   "metadata": {},
   "source": [
    "## Tupel und Funktionen\n",
    "TODO: beschreiben wie man mehrere Elemente aus einer Funktion zurückgeben kann und was dahinter steckt\n",
    "TODO: beschreiben was tuple-unpacking ist und wie man damit Variablen vertauschen kann"
   ]
  },
  {
   "cell_type": "markdown",
   "metadata": {},
   "source": [
    "## Wörterbücher (Dicts)\n",
    "TODO: Dicts einführen"
   ]
  }
 ],
 "metadata": {
  "kernelspec": {
   "display_name": "Python 3",
   "language": "python",
   "name": "python3"
  },
  "language_info": {
   "codemirror_mode": {
    "name": "ipython",
    "version": 3
   },
   "file_extension": ".py",
   "mimetype": "text/x-python",
   "name": "python",
   "nbconvert_exporter": "python",
   "pygments_lexer": "ipython3",
   "version": "3.8.2"
  }
 },
 "nbformat": 4,
 "nbformat_minor": 1
}