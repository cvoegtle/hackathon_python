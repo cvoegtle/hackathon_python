{
 "cells": [
  {
   "cell_type": "markdown",
   "metadata": {},
   "source": [
    "# Einführung in Python\n",
    "\n",
    "Wir mögen Python. Unter den gängigen Programmiersprachen ist es die intuitivste. Das ist ein Grund\n",
    "warum sie gerne von Wissenschaftlern benutzt wird, die ihre Daten analysiern möchten, ohne vorher ein\n",
    "Informatikstudium zu absolvieren.\n",
    "\n",
    "Wenn ihr dies lesen könnt, dann habt Ihr Python schon installiert und habt alles um loszulegen.\n",
    "\n",
    "Nehmt Euch etwas Zeit, um die Sprache kennenzulernen, mit der wir in den nächsten zwei Tagen arbeiten werden.\n",
    "\n",
    "Detaillierte Informationen zu Python findet auf [python.org](https://docs.python.org/3/)\n",
    "\n",
    "## Python als Taschenrechner\n",
    "Der Python-Interpreter ist ein sehr brauchbarer Taschenrechner. Gibt ein paar mathematischen Begriffe ein,\n",
    "um das auszuprobieren: `+-*/ ()` `**` zum Potenzieren.\n",
    "\n",
    "z.B.\n",
    "```Python\n",
    "(1 + 1) * 10\n",
    "--> 20\n",
    "```\n",
    "\n",
    "Pro-Tipp: mit _ kannst Du mit dem letzten Ergebnis weiterrechnen.\n",
    "\n",
    "Gib einige Ausdrücke in das Feld unten ein und drücke \"run\", um das Ergebnis zu sehen:"
   ]
  },
  {
   "cell_type": "code",
   "execution_count": 16,
   "metadata": {},
   "outputs": [
    {
     "data": {
      "text/plain": [
       "1"
      ]
     },
     "execution_count": 16,
     "metadata": {},
     "output_type": "execute_result"
    }
   ],
   "source": []
  },
  {
   "cell_type": "markdown",
   "source": [
    "## Variablen\n",
    "Du kannst das Ergebnis Deiner Rechnung einer Variablen zuweisen und diese dann bei späteren Rechnungen\n",
    "weiter verwenden.\n",
    "\n",
    "```Python\n",
    "a = 1+1\n",
    "b = 10\n",
    "a ** b\n",
    "--> 1024\n",
    "```"
   ],
   "metadata": {
    "collapsed": false,
    "pycharm": {
     "name": "#%% md\n"
    }
   }
  },
  {
   "cell_type": "code",
   "execution_count": null,
   "outputs": [],
   "source": [],
   "metadata": {
    "collapsed": false,
    "pycharm": {
     "name": "#%%\n"
    }
   }
  },
  {
   "cell_type": "markdown",
   "source": [
    "## Ergebnisse ausgeben\n",
    "\n",
    "mit der print-Funktion kannst Du Dir die Ergebnisse ausgeben lassen:\n",
    "\n",
    "```Python\n",
    "import math\n",
    "radius = 2.5\n",
    "kreisflaeche = math.pi * radius ** 2\n",
    "print('ein Kreis mit dem Radius', radius, 'm hat eine Fläche von', kreisflaeche, 'qm')`\n",
    "--> ein Kreis mit dem Radius 2.5 m hat eine Fläche von 19.634954084936208 qm\n",
    "```\n",
    "\n",
    "oder schön formatiert so:\n",
    "```Python\n",
    "print('ein Kreis mit dem Radius {} m hat eine Fläche von {:.2f} qm'.format(radius, kreisflaeche))\n",
    "--> ein Kreis mit dem Radius 2.5 m hat eine Fläche von 19.63 qm\n",
    "```\n",
    "Mehr zur [print-Funktion](https://docs.python.org/3/library/functions.html#print) und\n",
    "[Formatierung von Strings](https://docs.python.org/3/library/string.html)"
   ],
   "metadata": {
    "collapsed": false,
    "pycharm": {
     "name": "#%% md\n"
    }
   }
  },
  {
   "cell_type": "code",
   "execution_count": 8,
   "outputs": [
    {
     "name": "stdout",
     "output_type": "stream",
     "text": [
      "ein Kreis mit dem Radius 2.5 m hat eine Fläche von 19.634954084936208 qm\n"
     ]
    }
   ],
   "source": [],
   "metadata": {
    "collapsed": false,
    "pycharm": {
     "name": "#%%\n"
    }
   }
  }
 ],
 "metadata": {
  "kernelspec": {
   "display_name": "Python 3",
   "language": "python",
   "name": "python3"
  },
  "language_info": {
   "codemirror_mode": {
    "name": "ipython",
    "version": 3
   },
   "file_extension": ".py",
   "mimetype": "text/x-python",
   "name": "python",
   "nbconvert_exporter": "python",
   "pygments_lexer": "ipython3",
   "version": "3.8.2"
  }
 },
 "nbformat": 4,
 "nbformat_minor": 1
}