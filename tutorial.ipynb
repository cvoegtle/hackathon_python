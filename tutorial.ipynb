{
 "cells": [
  {
   "cell_type": "markdown",
   "metadata": {},
   "source": [
    "# Einführung in Python\n",
    "\n",
    "Wir mögen Python. Unter den gängigen Programmiersprachen ist es die intuitivste. Das ist ein Grund\n",
    "warum sie gerne von Wissenschaftlern benutzt wird, die ihre Daten analysiern möchten, ohne vorher ein\n",
    "Informatikstudium zu absolvieren.\n",
    "\n",
    "Wenn ihr dies lesen könnt, dann habt Ihr Python schon installiert und habt alles um loszulegen.\n",
    "\n",
    "Nehmt Euch etwas Zeit, um die Sprache kennenzulernen, mit der wir in den nächsten zwei Tagen arbeiten werden.\n",
    "\n",
    "Detaillierte Informationen zu Python findet auf [python.org](https://docs.python.org/3/)\n",
    "\n",
    "## Python als Taschenrechner\n",
    "Der Python-Interpreter ist ein sehr brauchbarer Taschenrechner. Er kann Addition `+`, Subtraktion `-`, Multiplikation `*`, Division `/` und Potenzen `**`. Mit `(` und `)` und können Teilausdrücke gruppiert werden.\n",
    "\n",
    "Hier ist ein Beispiel:"
   ]
  },
  {
   "cell_type": "code",
   "execution_count": 3,
   "metadata": {
    "scrolled": true
   },
   "outputs": [
    {
     "data": {
      "text/plain": [
       "20"
      ]
     },
     "execution_count": 3,
     "metadata": {},
     "output_type": "execute_result"
    }
   ],
   "source": [
    "(1 + 1) * 10"
   ]
  },
  {
   "cell_type": "markdown",
   "metadata": {},
   "source": [
    "Im folgenden Feld kannst Du selber ein wenig experimentieren. Tippe Deine Ausdrücke ein und click dann oben in der Toolbar auf den `>| Run` Knopf, oder drück `STRG + ENTER` auf der Tastatur.\n",
    "\n",
    "Mehr mathematische Funktionen findest Du [hier](https://docs.python.org/3/library/math.html)\n",
    "\n",
    "Diese stehen Dir im Gegensatz zu den Grundrechenarten nicht sofort zu Verfügung. Du musst sie erst importieren. Dies machen wir\n",
    "über die import Anweisung. Die schreiben wir in der Regel immer als erstes. z.B. um die Mathe-Bibliothek zu importieren:\n",
    "```Python\n",
    "import math\n",
    "math.sqrt(2)\n",
    "```\n",
    "oder um eine Funktion zu importieren:"
   ]
  },
  {
   "cell_type": "code",
   "execution_count": 4,
   "metadata": {},
   "outputs": [
    {
     "data": {
      "text/plain": [
       "1.4142135623730951"
      ]
     },
     "execution_count": 4,
     "metadata": {},
     "output_type": "execute_result"
    }
   ],
   "source": [
    "from math import sqrt\n",
    "sqrt(2)\n",
    "\n"
   ]
  },
  {
   "cell_type": "markdown",
   "metadata": {
    "pycharm": {
     "name": "#%% md\n"
    }
   },
   "source": [
    "## Variablen\n",
    "Du kannst das Ergebnis Deiner Rechnung einer Variablen zuweisen und diese dann bei späteren Rechnungen\n",
    "weiter verwenden. Hier ein Beispiel wo zwei Werte den Variablen `a` und `b` zugewiesen werden und dann mit ihren weitergearbeitet werden.\n",
    "\n",
    "`a` und `b` sind übrigens keine guten Variablennamen. Besser sind Variablennamen, die etwas über die Bedeutung der Variablen sagen."
   ]
  },
  {
   "cell_type": "code",
   "execution_count": 18,
   "metadata": {
    "pycharm": {
     "name": "#%%\n"
    }
   },
   "outputs": [
    {
     "data": {
      "text/plain": [
       "1024"
      ]
     },
     "execution_count": 18,
     "metadata": {},
     "output_type": "execute_result"
    }
   ],
   "source": [
    "a = 1+1\n",
    "b = 10\n",
    "a ** b"
   ]
  },
  {
   "cell_type": "markdown",
   "metadata": {},
   "source": [
    "## Bedingte Ausführung\n",
    "Wir können Werte auch vergleichen mit `<, >, ==, !=`. Das Ergebnis kann auch ein boolscher Wert sein. Also `wahr` oder `falsch`. `True` oder `false` auf Englisch."
   ]
  },
  {
   "cell_type": "code",
   "execution_count": null,
   "metadata": {
    "pycharm": {
     "name": "#%%\n"
    }
   },
   "outputs": [],
   "source": [
    "a > b"
   ]
  },
  {
   "cell_type": "code",
   "execution_count": null,
   "metadata": {
    "pycharm": {
     "name": "#%%\n"
    }
   },
   "outputs": [],
   "source": [
    "a < b"
   ]
  },
  {
   "cell_type": "code",
   "execution_count": 12,
   "metadata": {
    "pycharm": {
     "name": "#%%\n"
    }
   },
   "outputs": [
    {
     "data": {
      "text/plain": [
       "True"
      ]
     },
     "execution_count": 12,
     "metadata": {},
     "output_type": "execute_result"
    }
   ],
   "source": [
    "b == 10"
   ]
  },
  {
   "cell_type": "markdown",
   "metadata": {
    "pycharm": {
     "name": "#%% md\n"
    }
   },
   "source": [
    "diese boolschen Ausdrücke können wir benutzen um den Ablauf unseres Programms zu steuern:"
   ]
  },
  {
   "cell_type": "code",
   "execution_count": 19,
   "metadata": {
    "pycharm": {
     "name": "#%%\n"
    }
   },
   "outputs": [
    {
     "data": {
      "text/plain": [
       "59049"
      ]
     },
     "execution_count": 19,
     "metadata": {},
     "output_type": "execute_result"
    }
   ],
   "source": [
    "if a == 2:\n",
    "    a = a + 1\n",
    "a**b"
   ]
  },
  {
   "cell_type": "markdown",
   "metadata": {
    "pycharm": {
     "name": "#%% md\n"
    }
   },
   "source": [
    "ist Euch die Einrückung von `a = a + 1` aufgefallen? Die nennt man in Python einen Block. Was nach dem if eingerückt ist, wird nur\n",
    "ausgeführt, wenn die Bedingung zutrifft. Merkt Euch das gut! Einrückungen bestimmen die Zugehörigkeit zu einem Block, der\n",
    "gemeinsam ausgeführt wird.\n",
    "\n",
    "Wir haben auch eine Möglichkeit zu bestimmen, was passiert, wenn die Bedingung nicht zutrifft:"
   ]
  },
  {
   "cell_type": "code",
   "execution_count": 4,
   "metadata": {
    "pycharm": {
     "name": "#%%\n"
    }
   },
   "outputs": [
    {
     "data": {
      "text/plain": [
       "27"
      ]
     },
     "execution_count": 4,
     "metadata": {},
     "output_type": "execute_result"
    }
   ],
   "source": [
    "c = 3\n",
    "if c == 3:\n",
    "    a = 3\n",
    "    b = 3\n",
    "else:\n",
    "    a = 2\n",
    "    b = 10\n",
    "a**b"
   ]
  },
  {
   "cell_type": "markdown",
   "metadata": {},
   "source": [
    "## Listen\n",
    "TODO: Listen einführen"
   ]
  },
  {
   "cell_type": "markdown",
   "metadata": {},
   "source": [
    "## Zeichenketten (Strings)\n",
    "TODO: Zeichenketten einführen"
   ]
  },
  {
   "cell_type": "markdown",
   "metadata": {},
   "source": [
    "## Schleifen und Wiederholungen\n",
    "TODO: for Schleife einführen"
   ]
  },
  {
   "cell_type": "markdown",
   "metadata": {},
   "source": [
    "## Funktionen\n",
    "TODO: funktionen erklären: (mit, ohne, mehrere Parameter, Rückgabewerte)"
   ]
  },
  {
   "cell_type": "markdown",
   "metadata": {},
   "source": [
    "## Ergebnisse ausgeben\n",
    "\n",
    "mit der print-Funktion kannst Du Dir die Ergebnisse hübscher ausgeben lassen:"
   ]
  },
  {
   "cell_type": "code",
   "execution_count": 6,
   "metadata": {
    "pycharm": {
     "name": "#%%\n"
    }
   },
   "outputs": [
    {
     "name": "stdout",
     "output_type": "stream",
     "text": [
      "Der Bierkasten enthält 12 Flaschen.\n"
     ]
    }
   ],
   "source": [
    "flaschen = 12\n",
    "print(\"Der Bierkasten enthält\", flaschen, \"Flaschen.\")"
   ]
  },
  {
   "cell_type": "markdown",
   "metadata": {},
   "source": [
    "Noch Besser ist es, wenn man die Zahlen schön formatiert:"
   ]
  },
  {
   "cell_type": "code",
   "execution_count": 7,
   "metadata": {
    "pycharm": {
     "name": "#%%\n"
    }
   },
   "outputs": [
    {
     "name": "stdout",
     "output_type": "stream",
     "text": [
      "ein Kreis mit dem Radius 2.5 m hat eine Fläche von 19.63 qm\n"
     ]
    }
   ],
   "source": [
    "import math\n",
    "radius = 2.5\n",
    "kreisflaeche = math.pi * radius ** 2\n",
    "print('ein Kreis mit dem Radius {} m hat eine Fläche von {:.2f} qm'.format(radius, kreisflaeche))"
   ]
  },
  {
   "cell_type": "code",
   "execution_count": 8,
   "metadata": {
    "pycharm": {
     "name": "#%%\n"
    }
   },
   "outputs": [
    {
     "ename": "SyntaxError",
     "evalue": "invalid syntax (<ipython-input-8-6abab1ce631c>, line 1)",
     "output_type": "error",
     "traceback": [
      "\u001B[0;36m  File \u001B[0;32m\"<ipython-input-8-6abab1ce631c>\"\u001B[0;36m, line \u001B[0;32m1\u001B[0m\n\u001B[0;31m    Mehr zur [print-Funktion](https://docs.python.org/3/library/functions.html#print) und\u001B[0m\n\u001B[0m         ^\u001B[0m\n\u001B[0;31mSyntaxError\u001B[0m\u001B[0;31m:\u001B[0m invalid syntax\n"
     ]
    }
   ],
   "source": [
    "Mehr zur [print-Funktion](https://docs.python.org/3/library/functions.html#print) und\n",
    "[Formatierung von Text](https://docs.python.org/3/library/string.html). Im folgenden Feld kannst Du verschiedene Dinge aus diesem Abschnitt ausprobieren:"
   ]
  },
  {
   "cell_type": "code",
   "execution_count": null,
   "metadata": {
    "pycharm": {
     "name": "#%%\n"
    }
   },
   "outputs": [],
   "source": []
  },
  {
   "cell_type": "markdown",
   "metadata": {},
   "source": [
    "## Interessante Funktionen aus der Standard-Bibliothek\n",
    "* TODO: import erklären\n",
    "* TOOD: aufruf von Funktionen erklären\n",
    "* TODO: Interessante Funktionen mit Beispielen auflisten, Listen, Zeichenketten, range, enumerate,"
   ]
  },
  {
   "cell_type": "markdown",
   "metadata": {},
   "source": [
    "## Tupel und Funktionen\n",
    "TODO: beschreiben wie man mehrere Elemente aus einer Funktion zurückgeben kann und was dahinter steckt\n",
    "TODO: beschreiben was tuple-unpacking ist und wie man damit Variablen vertauschen kann"
   ]
  },
  {
   "cell_type": "markdown",
   "metadata": {},
   "source": [
    "## Wörterbücher (Dicts)\n",
    "TODO: Dicts einführen"
   ]
  },
  {
   "cell_type": "markdown",
   "metadata": {},
   "source": [
    "## Wörterbücher (Dicts)\n",
    "TODO: Dicts einführen"
   ]
  },
  {
   "cell_type": "markdown",
   "metadata": {},
   "source": [
    "## Listen\n",
    "TODO: Listen einführen"
   ]
  },
  {
   "cell_type": "markdown",
   "metadata": {},
   "source": [
    "## Zeichenketten (Strings)\n",
    "TODO: Zeichenketten einführen"
   ]
  },
  {
   "cell_type": "markdown",
   "metadata": {},
   "source": [
    "## Schleifen und Wiederholungen\n",
    "TODO: for Schleife einführen"
   ]
  },
  {
   "cell_type": "markdown",
   "metadata": {},
   "source": [
    "## Funktionen\n",
    "TODO: funktionen erklären: (mit, ohne, mehrere Parameter, Rückgabewerte)"
   ]
  },
  {
   "cell_type": "markdown",
   "metadata": {},
   "source": [
    "## Ergebnisse ausgeben\n",
    "\n",
    "mit der print-Funktion kannst Du Dir die Ergebnisse hübscher ausgeben lassen:"
   ]
  },
  {
   "cell_type": "code",
   "execution_count": null,
   "metadata": {
    "pycharm": {
     "name": "#%%\n"
    }
   },
   "outputs": [],
   "source": [
    "flaschen = 12\n",
    "print(\"Der Bierkasten enthält\", flaschen, \"Flaschen.\")"
   ]
  },
  {
   "cell_type": "markdown",
   "metadata": {},
   "source": [
    "Noch Besser ist es, wenn man die Zahlen schön formatiert:"
   ]
  },
  {
   "cell_type": "code",
   "execution_count": null,
   "metadata": {
    "pycharm": {
     "name": "#%%\n"
    }
   },
   "outputs": [],
   "source": [
    "import math\n",
    "radius = 2.5\n",
    "kreisflaeche = math.pi * radius ** 2\n",
    "print('ein Kreis mit dem Radius {} m hat eine Fläche von {:.2f} qm'.format(radius, kreisflaeche))"
   ]
  },
  {
   "cell_type": "code",
   "execution_count": null,
   "metadata": {
    "pycharm": {
     "name": "#%%\n"
    }
   },
   "outputs": [],
   "source": [
    "Mehr zur [print-Funktion](https://docs.python.org/3/library/functions.html#print) und\n",
    "[Formatierung von Text](https://docs.python.org/3/library/string.html). Im folgenden Feld kannst Du verschiedene Dinge aus diesem Abschnitt ausprobieren:"
   ]
  },
  {
   "cell_type": "code",
   "execution_count": null,
   "metadata": {
    "pycharm": {
     "name": "#%%\n"
    }
   },
   "outputs": [],
   "source": []
  },
  {
   "cell_type": "markdown",
   "metadata": {},
   "source": [
    "## Interessante Funktionen aus der Standard-Bibliothek\n",
    "* TODO: import erklären\n",
    "* TOOD: aufruf von Funktionen erklären\n",
    "* TODO: Interessante Funktionen mit Beispielen auflisten, Listen, Zeichenketten, range, enumerate,"
   ]
  },
  {
   "cell_type": "markdown",
   "source": [
    "## Tupel und Funktionen\n",
    "TODO: beschreiben wie man mehrere Elemente aus einer Funktion zurückgeben kann und was dahinter steckt\n",
    "TODO: beschreiben was tuple-unpacking ist und wie man damit Variablen vertauschen kann"
   ],
   "metadata": {
    "collapsed": false
   }
  },
  {
   "cell_type": "markdown",
   "source": [
    "## Wörterbücher (Dicts)\n",
    "TODO: Dicts einführen"
   ],
   "metadata": {
    "collapsed": false
   }
  },
  {
   "cell_type": "markdown",
   "source": [
    "## Wörterbücher (Dicts)\n",
    "TODO: Dicts einführen"
   ],
   "metadata": {
    "collapsed": false
   }
  },
  {
   "cell_type": "markdown",
   "source": [
    "## Listen\n",
    "TODO: Listen einführen"
   ],
   "metadata": {
    "collapsed": false
   }
  },
  {
   "cell_type": "markdown",
   "source": [
    "## Zeichenketten (Strings)\n",
    "TODO: Zeichenketten einführen"
   ],
   "metadata": {
    "collapsed": false
   }
  },
  {
   "cell_type": "markdown",
   "source": [
    "## Schleifen und Wiederholungen\n",
    "TODO: for Schleife einführen"
   ],
   "metadata": {
    "collapsed": false
   }
  },
  {
   "cell_type": "markdown",
   "source": [
    "## Funktionen\n",
    "TODO: funktionen erklären: (mit, ohne, mehrere Parameter, Rückgabewerte)"
   ],
   "metadata": {
    "collapsed": false
   }
  },
  {
   "cell_type": "markdown",
   "source": [
    "## Ergebnisse ausgeben\n",
    "\n",
    "mit der print-Funktion kannst Du Dir die Ergebnisse hübscher ausgeben lassen:"
   ],
   "metadata": {
    "collapsed": false
   }
  },
  {
   "cell_type": "code",
   "execution_count": null,
   "outputs": [],
   "source": [
    "flaschen = 12\n",
    "print(\"Der Bierkasten enthält\", flaschen, \"Flaschen.\")"
   ],
   "metadata": {
    "collapsed": false,
    "pycharm": {
     "name": "#%%\n"
    }
   }
  },
  {
   "cell_type": "markdown",
   "source": [
    "Noch Besser ist es, wenn man die Zahlen schön formatiert:"
   ],
   "metadata": {
    "collapsed": false
   }
  },
  {
   "cell_type": "code",
   "execution_count": null,
   "outputs": [],
   "source": [
    "import math\n",
    "radius = 2.5\n",
    "kreisflaeche = math.pi * radius ** 2\n",
    "print('ein Kreis mit dem Radius {} m hat eine Fläche von {:.2f} qm'.format(radius, kreisflaeche))"
   ],
   "metadata": {
    "collapsed": false,
    "pycharm": {
     "name": "#%%\n"
    }
   }
  },
  {
   "cell_type": "code",
   "execution_count": null,
   "outputs": [],
   "source": [
    "Mehr zur [print-Funktion](https://docs.python.org/3/library/functions.html#print) und\n",
    "[Formatierung von Text](https://docs.python.org/3/library/string.html). Im folgenden Feld kannst Du verschiedene Dinge aus diesem Abschnitt ausprobieren:"
   ],
   "metadata": {
    "collapsed": false,
    "pycharm": {
     "name": "#%%\n"
    }
   }
  },
  {
   "cell_type": "code",
   "execution_count": null,
   "outputs": [],
   "source": [],
   "metadata": {
    "collapsed": false,
    "pycharm": {
     "name": "#%%\n"
    }
   }
  },
  {
   "cell_type": "markdown",
   "source": [
    "## Interessante Funktionen aus der Standard-Bibliothek\n",
    "* TODO: import erklären\n",
    "* TOOD: aufruf von Funktionen erklären\n",
    "* TODO: Interessante Funktionen mit Beispielen auflisten, Listen, Zeichenketten, range, enumerate,"
   ],
   "metadata": {
    "collapsed": false
   }
  },
  {
   "cell_type": "markdown",
   "metadata": {},
   "source": [
    "## Tupel und Funktionen\n",
    "TODO: beschreiben wie man mehrere Elemente aus einer Funktion zurückgeben kann und was dahinter steckt\n",
    "TODO: beschreiben was tuple-unpacking ist und wie man damit Variablen vertauschen kann"
   ]
  },
  {
   "cell_type": "markdown",
   "metadata": {},
   "source": [
    "## Wörterbücher (Dicts)\n",
    "TODO: Dicts einführen"
   ]
  },
  {
   "cell_type": "markdown",
   "metadata": {},
   "source": [
    "## Wörterbücher (Dicts)\n",
    "TODO: Dicts einführen"
   ]
  },
  {
   "cell_type": "markdown",
   "metadata": {},
   "source": [
    "## Listen\n",
    "TODO: Listen einführen"
   ]
  },
  {
   "cell_type": "markdown",
   "metadata": {},
   "source": [
    "## Zeichenketten (Strings)\n",
    "TODO: Zeichenketten einführen"
   ]
  },
  {
   "cell_type": "markdown",
   "metadata": {},
   "source": [
    "## Schleifen und Wiederholungen\n",
    "TODO: for Schleife einführen"
   ]
  },
  {
   "cell_type": "markdown",
   "metadata": {},
   "source": [
    "## Funktionen\n",
    "TODO: funktionen erklären: (mit, ohne, mehrere Parameter, Rückgabewerte)"
   ]
  },
  {
   "cell_type": "markdown",
   "metadata": {
    "pycharm": {
     "name": "#%% md\n"
    }
   },
   "source": [
    "## Ergebnisse ausgeben\n",
    "\n",
    "mit der print-Funktion kannst Du Dir die Ergebnisse hübscher ausgeben lassen:"
   ]
  },
  {
   "cell_type": "code",
   "execution_count": 3,
   "metadata": {
    "scrolled": true
   },
   "outputs": [
    {
     "name": "stdout",
     "output_type": "stream",
     "text": [
      "Der Bierkasten enthält 12 Flaschen.\n"
     ]
    }
   ],
   "source": [
    "flaschen = 12\n",
    "print(\"Der Bierkasten enthält\", flaschen, \"Flaschen.\")"
   ]
  },
  {
   "cell_type": "markdown",
   "metadata": {},
   "source": [
    "Noch Besser ist es, wenn man die Zahlen schön formatiert:"
   ]
  },
  {
   "cell_type": "code",
   "execution_count": 4,
   "metadata": {
    "scrolled": true
   },
   "outputs": [
    {
     "name": "stdout",
     "output_type": "stream",
     "text": [
      "ein Kreis mit dem Radius 2.5 m hat eine Fläche von 19.63 qm\n"
     ]
    }
   ],
   "source": [
    "import math\n",
    "radius = 2.5\n",
    "kreisflaeche = math.pi * radius ** 2\n",
    "print('ein Kreis mit dem Radius {} m hat eine Fläche von {:.2f} qm'.format(radius, kreisflaeche))"
   ]
  },
  {
   "cell_type": "markdown",
   "metadata": {
    "pycharm": {
     "name": "#%%\n"
    }
   },
   "source": [
    "Mehr zur [print-Funktion](https://docs.python.org/3/library/functions.html#print) und\n",
    "[Formatierung von Text](https://docs.python.org/3/library/string.html). Im folgenden Feld kannst Du verschiedene Dinge aus diesem Abschnitt ausprobieren:"
   ]
  },
  {
   "cell_type": "code",
   "execution_count": null,
   "metadata": {},
   "outputs": [],
   "source": []
  },
  {
   "cell_type": "markdown",
   "metadata": {},
   "source": [
    "## Interessante Funktionen aus der Standard-Bibliothek\n",
    "* TODO: import erklären\n",
    "* TOOD: aufruf von Funktionen erklären\n",
    "* TODO: Interessante Funktionen mit Beispielen auflisten, Listen, Zeichenketten, range, enumerate, "
   ]
  },
  {
   "cell_type": "markdown",
   "metadata": {},
   "source": [
    "## Tupel und Funktionen\n",
    "TODO: beschreiben wie man mehrere Elemente aus einer Funktion zurückgeben kann und was dahinter steckt\n",
    "TODO: beschreiben was tuple-unpacking ist und wie man damit Variablen vertauschen kann"
   ]
  },
  {
   "cell_type": "markdown",
   "metadata": {},
   "source": [
    "## Wörterbücher (Dicts)\n",
    "TODO: Dicts einführen"
   ]
  }
 ],
 "metadata": {
  "kernelspec": {
   "display_name": "Python 3",
   "language": "python",
   "name": "python3"
  },
  "language_info": {
   "codemirror_mode": {
    "name": "ipython",
    "version": 3
   },
   "file_extension": ".py",
   "mimetype": "text/x-python",
   "name": "python",
   "nbconvert_exporter": "python",
   "pygments_lexer": "ipython3",
   "version": "3.8.2"
  }
 },
 "nbformat": 4,
 "nbformat_minor": 1
}