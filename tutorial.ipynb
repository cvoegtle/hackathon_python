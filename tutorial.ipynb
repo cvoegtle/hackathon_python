{
 "cells": [
  {
   "cell_type": "markdown",
   "metadata": {},
   "source": [
    "# Einführung in Python\n",
    "\n",
    "Wir mögen Python. Unter den gängigen Programmiersprachen ist es die intuitivste. Das ist ein Grund\n",
    "warum sie gerne von Wissenschaftlern benutzt wird, die ihre Daten analysiern möchten, ohne vorher ein\n",
    "Informatikstudium zu absolvieren.\n",
    "\n",
    "Wenn ihr dies lesen könnt, dann habt Ihr Python schon installiert und habt alles um loszulegen.\n",
    "\n",
    "Nehmt Euch etwas Zeit, um die Sprache kennenzulernen, mit der wir in den nächsten zwei Tagen arbeiten werden.\n",
    "\n",
    "Detaillierte Informationen zu Python findet auf [python.org](https://docs.python.org/3/)\n",
    "\n",
    "## Python als Taschenrechner\n",
    "Der Python-Interpreter ist ein sehr brauchbarer Taschenrechner. Er kann Addition `+`, Subtraktion `-`, Multiplikation `*`, Division `/` und Potenzen `**`. Mit `(` und `)` und können Teilausdrücke gruppiert werden.\n",
    "\n",
    "Hier ist ein Beispiel:"
   ]
  },
  {
   "cell_type": "code",
   "execution_count": 1,
   "metadata": {
    "scrolled": true
   },
   "outputs": [
    {
     "data": {
      "text/plain": [
       "20"
      ]
     },
     "execution_count": 1,
     "metadata": {},
     "output_type": "execute_result"
    }
   ],
   "source": [
    "(1 + 1) * 10"
   ]
  },
  {
   "cell_type": "markdown",
   "metadata": {},
   "source": [
    "Im folgenden Feld kannst Du selber ein wenig experimentieren. Tippe Deine Ausdrücke ein und click dann oben in der Toolbar auf den `>| Run` Knopf, oder drück `STRG + ENTER` auf der Tastatur. \n",
    "\n",
    "**TODO: sollen wir ggf. hier den import von funktionen erklären? Dann müssen wir auch deren Aufruf erklären.**\n",
    "\n",
    "Mehr mathematische Funktionen findest Du [hier](https://docs.python.org/3/library/math.html)"
   ]
  },
  {
   "cell_type": "code",
   "execution_count": null,
   "metadata": {},
   "outputs": [],
   "source": []
  },
  {
   "cell_type": "markdown",
   "metadata": {
    "pycharm": {
     "name": "#%% md\n"
    }
   },
   "source": [
    "## Variablen\n",
    "Du kannst das Ergebnis Deiner Rechnung einer Variablen zuweisen und diese dann bei späteren Rechnungen\n",
    "weiter verwenden. Hier ein Beispiel wo zwei Werte den Variablen `a` und `b` zugewiesen werden und dann mit ihren weitergearbeitet werden."
   ]
  },
  {
   "cell_type": "code",
   "execution_count": 2,
   "metadata": {
    "pycharm": {
     "name": "#%%\n"
    }
   },
   "outputs": [
    {
     "data": {
      "text/plain": [
       "1024"
      ]
     },
     "execution_count": 2,
     "metadata": {},
     "output_type": "execute_result"
    }
   ],
   "source": [
    "a = 1+1\n",
    "b = 10\n",
    "a ** b"
   ]
  },
  {
   "cell_type": "markdown",
   "metadata": {},
   "source": [
    "## Bedingte Ausführung\n",
    "TODO: if statement einführen"
   ]
  },
  {
   "cell_type": "markdown",
   "metadata": {},
   "source": [
    "## Listen\n",
    "TODO: Listen einführen"
   ]
  },
  {
   "cell_type": "markdown",
   "metadata": {},
   "source": [
    "## Zeichenketten (Strings)\n",
    "TODO: Zeichenketten einführen"
   ]
  },
  {
   "cell_type": "markdown",
   "metadata": {},
   "source": [
    "## Schleifen und Wiederholungen\n",
    "TODO: for Schleife einführen"
   ]
  },
  {
   "cell_type": "markdown",
   "metadata": {},
   "source": [
    "## Funktionen\n",
    "TODO: funktionen erklären: (mit, ohne, mehrere Parameter, Rückgabewerte)"
   ]
  },
  {
   "cell_type": "markdown",
   "metadata": {
    "pycharm": {
     "name": "#%% md\n"
    }
   },
   "source": [
    "## Ergebnisse ausgeben\n",
    "\n",
    "mit der print-Funktion kannst Du Dir die Ergebnisse hübscher ausgeben lassen:"
   ]
  },
  {
   "cell_type": "code",
   "execution_count": 3,
   "metadata": {
    "scrolled": true
   },
   "outputs": [
    {
     "name": "stdout",
     "output_type": "stream",
     "text": [
      "Der Bierkasten enthält 12 Flaschen.\n"
     ]
    }
   ],
   "source": [
    "flaschen = 12\n",
    "print(\"Der Bierkasten enthält\", flaschen, \"Flaschen.\")"
   ]
  },
  {
   "cell_type": "markdown",
   "metadata": {},
   "source": [
    "Noch Besser ist es, wenn man die Zahlen schön formatiert:"
   ]
  },
  {
   "cell_type": "code",
   "execution_count": 4,
   "metadata": {
    "scrolled": true
   },
   "outputs": [
    {
     "name": "stdout",
     "output_type": "stream",
     "text": [
      "ein Kreis mit dem Radius 2.5 m hat eine Fläche von 19.63 qm\n"
     ]
    }
   ],
   "source": [
    "import math\n",
    "radius = 2.5\n",
    "kreisflaeche = math.pi * radius ** 2\n",
    "print('ein Kreis mit dem Radius {} m hat eine Fläche von {:.2f} qm'.format(radius, kreisflaeche))"
   ]
  },
  {
   "cell_type": "markdown",
   "metadata": {
    "pycharm": {
     "name": "#%%\n"
    }
   },
   "source": [
    "Mehr zur [print-Funktion](https://docs.python.org/3/library/functions.html#print) und\n",
    "[Formatierung von Text](https://docs.python.org/3/library/string.html). Im folgenden Feld kannst Du verschiedene Dinge aus diesem Abschnitt ausprobieren:"
   ]
  },
  {
   "cell_type": "code",
   "execution_count": null,
   "metadata": {},
   "outputs": [],
   "source": []
  },
  {
   "cell_type": "markdown",
   "metadata": {},
   "source": [
    "## Interessante Funktionen aus der Standard-Bibliothek\n",
    "* TODO: import erklären\n",
    "* TOOD: aufruf von Funktionen erklären\n",
    "* TODO: Interessante Funktionen mit Beispielen auflisten, Listen, Zeichenketten, range, enumerate, "
   ]
  },
  {
   "cell_type": "markdown",
   "metadata": {},
   "source": [
    "## Tupel und Funktionen\n",
    "TODO: beschreiben wie man mehrere Elemente aus einer Funktion zurückgeben kann und was dahinter steckt\n",
    "TODO: beschreiben was tuple-unpacking ist und wie man damit Variablen vertauschen kann"
   ]
  },
  {
   "cell_type": "markdown",
   "metadata": {},
   "source": [
    "## Wörterbücher (Dicts)\n",
    "TODO: Dicts einführen"
   ]
  }
 ],
 "metadata": {
  "kernelspec": {
   "display_name": "Python 3",
   "language": "python",
   "name": "python3"
  },
  "language_info": {
   "codemirror_mode": {
    "name": "ipython",
    "version": 3
   },
   "file_extension": ".py",
   "mimetype": "text/x-python",
   "name": "python",
   "nbconvert_exporter": "python",
   "pygments_lexer": "ipython3",
   "version": "3.8.1"
  }
 },
 "nbformat": 4,
 "nbformat_minor": 1
}
