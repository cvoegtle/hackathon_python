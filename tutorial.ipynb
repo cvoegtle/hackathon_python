{
 "cells": [
  {
   "cell_type": "markdown",
   "metadata": {},
   "source": [
    "# Einführung in Python\n",
    "\n",
    "Wir mögen Python. Unter den gängigen Programmiersprachen ist es die intuitivste. Das ist ein Grund\n",
    "warum sie gerne von Wissenschaftlern benutzt wird, die ihre Daten analysiern möchten, ohne vorher ein\n",
    "Informatikstudium zu absolvieren.\n",
    "\n",
    "Wenn ihr dies lesen könnt, dann habt Ihr Python schon installiert und habt alles um loszulegen.\n",
    "\n",
    "Nehmt Euch etwas Zeit, um die Sprache kennen zu lernen, mit der wir in den nächsten zwei Tagen arbeiten werden.\n",
    "\n",
    "Detaillierte Informationen zu Python findet auf [python.org](https://docs.python.org/3/)\n",
    "\n",
    "## Python als Taschenrechner\n",
    "Der Python-Interpreter ist ein sehr brauchbarer Taschenrechner. Gibt ein paar mathematischen Begriffe ein,\n",
    "um das auszuprobieren: `+-*/ ()` `**` zum potenzieren.\n",
    "\n",
    "z.B. `(1+1) * 10`\n",
    "\n",
    "Pro-Tipp: mit _ kannst Du mit dem letzten Ergebnis weiterrechnen"
   ]
  },
  {
   "cell_type": "code",
   "execution_count": 16,
   "metadata": {},
   "outputs": [
    {
     "data": {
      "text/plain": [
       "1"
      ]
     },
     "execution_count": 16,
     "metadata": {},
     "output_type": "execute_result"
    }
   ],
   "source": []
  },
  {
   "cell_type": "markdown",
   "source": [
    "## Variablen\n",
    "Du kannst das Ergebnis Deiner Rechnung einer Variablen zuweisen.\n",
    "\n",
    "'a=1+1'\n",
    "a*3\n",
    "\n",
    "\n"
   ],
   "metadata": {
    "collapsed": false,
    "pycharm": {
     "name": "#%% md\n"
    }
   }
  },
  {
   "cell_type": "code",
   "execution_count": null,
   "outputs": [],
   "source": [],
   "metadata": {
    "collapsed": false,
    "pycharm": {
     "name": "#%%\n"
    }
   }
  },
  {
   "cell_type": "code",
   "execution_count": null,
   "metadata": {},
   "outputs": [],
   "source": []
  },
  {
   "cell_type": "code",
   "execution_count": 12,
   "metadata": {},
   "outputs": [
    {
     "data": {
      "text/plain": [
       "2"
      ]
     },
     "execution_count": 12,
     "metadata": {},
     "output_type": "execute_result"
    }
   ],
   "source": [
    "1+1"
   ]
  },
  {
   "cell_type": "code",
   "execution_count": null,
   "metadata": {},
   "outputs": [],
   "source": []
  }
 ],
 "metadata": {
  "kernelspec": {
   "display_name": "Python 3",
   "language": "python",
   "name": "python3"
  },
  "language_info": {
   "codemirror_mode": {
    "name": "ipython",
    "version": 3
   },
   "file_extension": ".py",
   "mimetype": "text/x-python",
   "name": "python",
   "nbconvert_exporter": "python",
   "pygments_lexer": "ipython3",
   "version": "3.8.2"
  }
 },
 "nbformat": 4,
 "nbformat_minor": 1
}